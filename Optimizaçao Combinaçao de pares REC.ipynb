{
 "cells": [
  {
   "cell_type": "code",
   "execution_count": 5,
   "id": "b948c5fc",
   "metadata": {
    "scrolled": true
   },
   "outputs": [],
   "source": [
    "# Código para ver qual é o minimo de surplus de geraçao de PV para autoconsumo coletivo analisando um conjunto de combinaçoes de \n",
    "#5 (podemos alterar) diagramas de carga (em z score) em que a cada um dos 96 observaçoes de 15 minutos de um dia, soma os valores\n",
    "#de consumo e subtrai à geração. Depois soma todos os  96 valores dessa operaçao por combinaçao e ve qual é o menor. Essa será a \n",
    "#melhor combinaçao de opçoes mas o codigo dá os melhores 5.  \n",
    "#The code considers a table with 21 columns with 96 lines, with numeric values in each cell that range from 0 to 1. \n",
    "#The first column corresponds to a PV electricity generation profile G. The other 20 columns correspond to electricity \n",
    "#consumption profiles P1 to P20. Generate a python code that combines all possible combinations in sets of 5 electricity \n",
    "#generation profiles, adds the values of each observation (line) and subtracts to the G value, where the S variable is the \n",
    "#result. Each combination will result in a STotal value, which is the sum of all 24 S of that combination. The output of the\n",
    "#python code, should be the STotal values of the 5 lowest combinations, displaying what are the corresponding 5 P elements of \n",
    "#each combination."
   ]
  },
  {
   "cell_type": "code",
   "execution_count": 4,
   "id": "10e149f8",
   "metadata": {},
   "outputs": [
    {
     "name": "stdout",
     "output_type": "stream",
     "text": [
      "Combinations of profiles 1: P1, P2, P8, P14, P16\n",
      "STotal Surplus of PV Generation (min is the better): 175.3105727117878\n",
      "\n",
      "Combinations of profiles 2: P1, P2, P14, P16, P19\n",
      "STotal Surplus of PV Generation (min is the better): 176.58529728302892\n",
      "\n",
      "Combinations of profiles 3: P1, P2, P6, P14, P16\n",
      "STotal Surplus of PV Generation (min is the better): 176.62483603905196\n",
      "\n",
      "Combinations of profiles 4: P1, P2, P11, P14, P16\n",
      "STotal Surplus of PV Generation (min is the better): 176.98315254154159\n",
      "\n",
      "Combinations of profiles 5: P1, P2, P3, P14, P16\n",
      "STotal Surplus of PV Generation (min is the better): 177.15413025580713\n",
      "\n"
     ]
    }
   ],
   "source": [
    "import numpy as np\n",
    "\n",
    "# create table with random values\n",
    "table = np.random.rand(96, 21)\n",
    "\n",
    "# define function to calculate STotal for a given combination of consumption profiles\n",
    "def calculate_STotal(combination):\n",
    "    S = table[:, combination].sum(axis=1) - table[:, 0]\n",
    "    return S.sum()\n",
    "\n",
    "# generate all possible combinations of consumption profiles\n",
    "combinations = []\n",
    "for i in range(1, 21):\n",
    "    for j in range(i+1, 21):\n",
    "        for k in range(j+1, 21):\n",
    "            for l in range(k+1, 21):\n",
    "                for m in range(l+1, 21):\n",
    "                    combinations.append([i, j, k, l, m])\n",
    "\n",
    "# calculate STotal for each combination and store in a dictionary\n",
    "STotal_dict = {}\n",
    "for combination in combinations:\n",
    "    STotal_dict[tuple(combination)] = calculate_STotal(combination)\n",
    "\n",
    "# find the 5 combinations with the lowest STotal values\n",
    "lowest_combinations = sorted(STotal_dict, key=STotal_dict.get)[:5]\n",
    "\n",
    "# print the results\n",
    "for i, combination in enumerate(lowest_combinations):\n",
    "    print(f\"Combinations of profiles {i+1}: P{combination[0]}, P{combination[1]}, P{combination[2]}, P{combination[3]}, P{combination[4]}\")\n",
    "    print(f\"STotal Surplus of PV Generation (min is the better): {STotal_dict[combination]}\\n\")\n"
   ]
  },
  {
   "cell_type": "code",
   "execution_count": null,
   "id": "722e5e3a",
   "metadata": {},
   "outputs": [],
   "source": []
  }
 ],
 "metadata": {
  "kernelspec": {
   "display_name": "Python 3 (ipykernel)",
   "language": "python",
   "name": "python3"
  },
  "language_info": {
   "codemirror_mode": {
    "name": "ipython",
    "version": 3
   },
   "file_extension": ".py",
   "mimetype": "text/x-python",
   "name": "python",
   "nbconvert_exporter": "python",
   "pygments_lexer": "ipython3",
   "version": "3.9.13"
  }
 },
 "nbformat": 4,
 "nbformat_minor": 5
}
